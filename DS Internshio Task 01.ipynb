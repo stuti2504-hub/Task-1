{
 "cells": [
  {
   "cell_type": "code",
   "execution_count": 1,
   "id": "5a4fc4da",
   "metadata": {},
   "outputs": [
    {
     "name": "stdout",
     "output_type": "stream",
     "text": [
      "Enter your name: stuti\n",
      "Enter your age: 21\n",
      "Enter your hobby: reading\n",
      "\n",
      "--- Personal Introduction ---\n",
      "Hello stuti! Welcome to the program.\n",
      "You are 21 years old and your hobby is reading.\n",
      "It's great to meet you! 😊\n"
     ]
    }
   ],
   "source": [
    "# Personal Introduction Program\n",
    "\n",
    "# Asking for user for details\n",
    "name = input(\"Enter your name: \")\n",
    "age = input(\"Enter your age: \")\n",
    "hobby = input(\"Enter your hobby: \")\n",
    "\n",
    "# Displaying a friendly message\n",
    "print(\"\\n--- Personal Introduction ---\")\n",
    "print(f\"Hello {name}! Welcome to the program.\")\n",
    "print(f\"You are {age} years old and your hobby is {hobby}.\")\n",
    "print(\"It's great to meet you! 😊\")"
   ]
  },
  {
   "cell_type": "code",
   "execution_count": null,
   "id": "2e540823",
   "metadata": {},
   "outputs": [],
   "source": []
  }
 ],
 "metadata": {
  "kernelspec": {
   "display_name": "Python 3 (ipykernel)",
   "language": "python",
   "name": "python3"
  },
  "language_info": {
   "codemirror_mode": {
    "name": "ipython",
    "version": 3
   },
   "file_extension": ".py",
   "mimetype": "text/x-python",
   "name": "python",
   "nbconvert_exporter": "python",
   "pygments_lexer": "ipython3",
   "version": "3.10.9"
  }
 },
 "nbformat": 4,
 "nbformat_minor": 5
}
